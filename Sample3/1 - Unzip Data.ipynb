{
 "cells": [
  {
   "cell_type": "markdown",
   "metadata": {},
   "source": [
    "# 1. Unzip data"
   ]
  },
  {
   "cell_type": "markdown",
   "metadata": {},
   "source": [
    "Our task is to progressivley develop a deep learning model to differentiate dogs from cats from an input image. So first step would be to find some training and test dataset for this task.\n",
    "\n",
    "We can grab the dataset needed from Kaggle. There are two competitions with similar names but we will be working with https://www.kaggle.com/c/dogs-vs-cats not the one suffixed with Redux. Anyway, all you need is a free Kaggle account to download data and you can use your gmail or facebook account as I recall. To simplify things and to make this tutorial self-contained I have downloaded the files and hosted them inside the repo. Due to file size limits on github, we need t ounzip them from a multi-file archive. Also I have filtered the data to remove tiny images and segregated it into folders suitable for Keras training."
   ]
  },
  {
   "cell_type": "code",
   "execution_count": 2,
   "metadata": {},
   "outputs": [
    {
     "name": "stdout",
     "output_type": "stream",
     "text": [
      "DogsVsCats.zip.001  DogsVsCats.zip.005\tDogsVsCats.zip.009  DogsVsCats.zip.013\r\n",
      "DogsVsCats.zip.002  DogsVsCats.zip.006\tDogsVsCats.zip.010\r\n",
      "DogsVsCats.zip.003  DogsVsCats.zip.007\tDogsVsCats.zip.011\r\n",
      "DogsVsCats.zip.004  DogsVsCats.zip.008\tDogsVsCats.zip.012\r\n"
     ]
    }
   ],
   "source": [
    "! ls ./data"
   ]
  },
  {
   "cell_type": "markdown",
   "metadata": {},
   "source": [
    "Let's construct single file archive again."
   ]
  },
  {
   "cell_type": "code",
   "execution_count": 3,
   "metadata": {},
   "outputs": [],
   "source": [
    "! cat ./data/DogsVsCats.zip* > ./data/DogsVsCats.zip"
   ]
  },
  {
   "cell_type": "code",
   "execution_count": 6,
   "metadata": {},
   "outputs": [
    {
     "name": "stdout",
     "output_type": "stream",
     "text": [
      "DogsVsCats.zip\t    DogsVsCats.zip.004\tDogsVsCats.zip.008  DogsVsCats.zip.012\r\n",
      "DogsVsCats.zip.001  DogsVsCats.zip.005\tDogsVsCats.zip.009  DogsVsCats.zip.013\r\n",
      "DogsVsCats.zip.002  DogsVsCats.zip.006\tDogsVsCats.zip.010\r\n",
      "DogsVsCats.zip.003  DogsVsCats.zip.007\tDogsVsCats.zip.011\r\n"
     ]
    }
   ],
   "source": [
    "! ls ./data"
   ]
  },
  {
   "cell_type": "markdown",
   "metadata": {},
   "source": [
    "Let's unzip the data"
   ]
  },
  {
   "cell_type": "code",
   "execution_count": 12,
   "metadata": {},
   "outputs": [],
   "source": [
    "! unzip -qq ./data/DogsVsCats.zip -d ./data"
   ]
  },
  {
   "cell_type": "markdown",
   "metadata": {},
   "source": [
    "Data folder will contain two folders one called train and one called test. Every one of them will contain also two folders one for dogs and one for cats. We have 3000 training images for both classes and 300 test (validation) images."
   ]
  },
  {
   "cell_type": "code",
   "execution_count": 13,
   "metadata": {},
   "outputs": [
    {
     "name": "stdout",
     "output_type": "stream",
     "text": [
      "DogsVsCats.zip\t    DogsVsCats.zip.004\tDogsVsCats.zip.008  DogsVsCats.zip.012\r\n",
      "DogsVsCats.zip.001  DogsVsCats.zip.005\tDogsVsCats.zip.009  DogsVsCats.zip.013\r\n",
      "DogsVsCats.zip.002  DogsVsCats.zip.006\tDogsVsCats.zip.010  test\r\n",
      "DogsVsCats.zip.003  DogsVsCats.zip.007\tDogsVsCats.zip.011  train\r\n"
     ]
    }
   ],
   "source": [
    "! ls data/"
   ]
  },
  {
   "cell_type": "code",
   "execution_count": 15,
   "metadata": {},
   "outputs": [
    {
     "name": "stdout",
     "output_type": "stream",
     "text": [
      "cat  dog\n",
      "cat  dog\n"
     ]
    }
   ],
   "source": [
    "! ls data/train"
   ]
  },
  {
   "cell_type": "code",
   "execution_count": 16,
   "metadata": {},
   "outputs": [
    {
     "name": "stdout",
     "output_type": "stream",
     "text": [
      "cat  dog\r\n"
     ]
    }
   ],
   "source": [
    "! ls data/test"
   ]
  },
  {
   "cell_type": "markdown",
   "metadata": {
    "collapsed": true
   },
   "source": [
    "Proceed to next notebook #2 to where we start with plain neural networks to solve this image classification problem."
   ]
  }
 ],
 "metadata": {
  "kernelspec": {
   "display_name": "Python 3",
   "language": "python",
   "name": "python3"
  },
  "language_info": {
   "codemirror_mode": {
    "name": "ipython",
    "version": 3
   },
   "file_extension": ".py",
   "mimetype": "text/x-python",
   "name": "python",
   "nbconvert_exporter": "python",
   "pygments_lexer": "ipython3",
   "version": "3.5.4"
  }
 },
 "nbformat": 4,
 "nbformat_minor": 2
}
