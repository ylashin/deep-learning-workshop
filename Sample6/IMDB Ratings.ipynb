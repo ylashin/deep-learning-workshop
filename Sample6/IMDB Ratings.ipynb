{
 "cells": [
  {
   "cell_type": "code",
   "execution_count": 1,
   "metadata": {},
   "outputs": [
    {
     "name": "stderr",
     "output_type": "stream",
     "text": [
      "/anaconda/envs/py35/lib/python3.5/site-packages/h5py/__init__.py:36: FutureWarning: Conversion of the second argument of issubdtype from `float` to `np.floating` is deprecated. In future, it will be treated as `np.float64 == np.dtype(float).type`.\n",
      "  from ._conv import register_converters as _register_converters\n",
      "Using TensorFlow backend.\n"
     ]
    }
   ],
   "source": [
    "import numpy as np\n",
    "import pandas as pd\n",
    "\n",
    "from keras.models import Sequential, Model\n",
    "from keras.layers import Input, Embedding\n",
    "from keras.layers import add\n",
    "from keras.regularizers import l2, l1\n",
    "from keras.layers.core import Flatten, Dense, Dropout\n",
    "from keras.optimizers import Adam\n",
    "from keras.layers.convolutional import *"
   ]
  },
  {
   "cell_type": "code",
   "execution_count": 6,
   "metadata": {},
   "outputs": [],
   "source": [
    "np.random.seed(12345)"
   ]
  },
  {
   "cell_type": "markdown",
   "metadata": {},
   "source": [
    "### Download and extract MovieLens 1M data file"
   ]
  },
  {
   "cell_type": "code",
   "execution_count": 2,
   "metadata": {},
   "outputs": [
    {
     "name": "stdout",
     "output_type": "stream",
     "text": [
      "--2018-07-15 09:52:15--  http://files.grouplens.org/datasets/movielens/ml-1m.zip\n",
      "Resolving files.grouplens.org (files.grouplens.org)... 128.101.34.235\n",
      "Connecting to files.grouplens.org (files.grouplens.org)|128.101.34.235|:80... connected.\n",
      "HTTP request sent, awaiting response... 200 OK\n",
      "Length: 5917549 (5.6M) [application/zip]\n",
      "Saving to: ‘ml-1m.zip.1’\n",
      "\n",
      "ml-1m.zip.1         100%[===================>]   5.64M  20.0MB/s    in 0.3s    \n",
      "\n",
      "2018-07-15 09:52:16 (20.0 MB/s) - ‘ml-1m.zip.1’ saved [5917549/5917549]\n",
      "\n"
     ]
    }
   ],
   "source": [
    "! wget \"http://files.grouplens.org/datasets/movielens/ml-1m.zip\""
   ]
  },
  {
   "cell_type": "code",
   "execution_count": 3,
   "metadata": {},
   "outputs": [],
   "source": [
    "! unzip -o -qq ml-1m.zip"
   ]
  },
  {
   "cell_type": "code",
   "execution_count": 4,
   "metadata": {},
   "outputs": [
    {
     "name": "stdout",
     "output_type": "stream",
     "text": [
      "movies.dat  ratings.dat  README  users.dat\r\n"
     ]
    }
   ],
   "source": [
    "! ls ml-1m"
   ]
  },
  {
   "cell_type": "code",
   "execution_count": 5,
   "metadata": {},
   "outputs": [],
   "source": [
    "data_path = 'ml-1m/'"
   ]
  },
  {
   "cell_type": "markdown",
   "metadata": {
    "heading_collapsed": true
   },
   "source": [
    "## Set up data"
   ]
  },
  {
   "cell_type": "markdown",
   "metadata": {
    "hidden": true
   },
   "source": [
    "We're working with the movielens data, which contains one rating per row, like this:"
   ]
  },
  {
   "cell_type": "code",
   "execution_count": 7,
   "metadata": {
    "hidden": true,
    "scrolled": true
   },
   "outputs": [
    {
     "name": "stderr",
     "output_type": "stream",
     "text": [
      "/anaconda/envs/py35/lib/python3.5/site-packages/ipykernel_launcher.py:1: ParserWarning: Falling back to the 'python' engine because the 'c' engine does not support regex separators (separators > 1 char and different from '\\s+' are interpreted as regex); you can avoid this warning by specifying engine='python'.\n",
      "  \"\"\"Entry point for launching an IPython kernel.\n"
     ]
    },
    {
     "data": {
      "text/html": [
       "<div>\n",
       "<style scoped>\n",
       "    .dataframe tbody tr th:only-of-type {\n",
       "        vertical-align: middle;\n",
       "    }\n",
       "\n",
       "    .dataframe tbody tr th {\n",
       "        vertical-align: top;\n",
       "    }\n",
       "\n",
       "    .dataframe thead th {\n",
       "        text-align: right;\n",
       "    }\n",
       "</style>\n",
       "<table border=\"1\" class=\"dataframe\">\n",
       "  <thead>\n",
       "    <tr style=\"text-align: right;\">\n",
       "      <th></th>\n",
       "      <th>userId</th>\n",
       "      <th>movieId</th>\n",
       "      <th>rating</th>\n",
       "      <th>timestamp</th>\n",
       "    </tr>\n",
       "  </thead>\n",
       "  <tbody>\n",
       "    <tr>\n",
       "      <th>0</th>\n",
       "      <td>1</td>\n",
       "      <td>1193</td>\n",
       "      <td>5</td>\n",
       "      <td>978300760</td>\n",
       "    </tr>\n",
       "    <tr>\n",
       "      <th>1</th>\n",
       "      <td>1</td>\n",
       "      <td>661</td>\n",
       "      <td>3</td>\n",
       "      <td>978302109</td>\n",
       "    </tr>\n",
       "    <tr>\n",
       "      <th>2</th>\n",
       "      <td>1</td>\n",
       "      <td>914</td>\n",
       "      <td>3</td>\n",
       "      <td>978301968</td>\n",
       "    </tr>\n",
       "    <tr>\n",
       "      <th>3</th>\n",
       "      <td>1</td>\n",
       "      <td>3408</td>\n",
       "      <td>4</td>\n",
       "      <td>978300275</td>\n",
       "    </tr>\n",
       "    <tr>\n",
       "      <th>4</th>\n",
       "      <td>1</td>\n",
       "      <td>2355</td>\n",
       "      <td>5</td>\n",
       "      <td>978824291</td>\n",
       "    </tr>\n",
       "  </tbody>\n",
       "</table>\n",
       "</div>"
      ],
      "text/plain": [
       "   userId  movieId  rating  timestamp\n",
       "0       1     1193       5  978300760\n",
       "1       1      661       3  978302109\n",
       "2       1      914       3  978301968\n",
       "3       1     3408       4  978300275\n",
       "4       1     2355       5  978824291"
      ]
     },
     "execution_count": 7,
     "metadata": {},
     "output_type": "execute_result"
    }
   ],
   "source": [
    "ratings = pd.read_csv(data_path + 'ratings.dat', names = ['userId','movieId','rating','timestamp'] , header=None, delimiter  = '::')\n",
    "ratings.head()"
   ]
  },
  {
   "cell_type": "code",
   "execution_count": 10,
   "metadata": {
    "hidden": true
   },
   "outputs": [
    {
     "name": "stdout",
     "output_type": "stream",
     "text": [
      "Number of ratings : 1000209\n"
     ]
    }
   ],
   "source": [
    "print(\"Number of ratings :\", len(ratings))"
   ]
  },
  {
   "cell_type": "markdown",
   "metadata": {
    "hidden": true
   },
   "source": [
    "Just for display purposes, let's read in the movie names too."
   ]
  },
  {
   "cell_type": "code",
   "execution_count": 13,
   "metadata": {
    "hidden": true
   },
   "outputs": [
    {
     "name": "stderr",
     "output_type": "stream",
     "text": [
      "/anaconda/envs/py35/lib/python3.5/site-packages/ipykernel_launcher.py:1: ParserWarning: Falling back to the 'python' engine because the 'c' engine does not support regex separators (separators > 1 char and different from '\\s+' are interpreted as regex); you can avoid this warning by specifying engine='python'.\n",
      "  \"\"\"Entry point for launching an IPython kernel.\n"
     ]
    }
   ],
   "source": [
    "movie_names = pd.read_csv(data_path + 'movies.dat', names = ['movieId','title','genres'] , header=None,  delimiter  = '::')\n",
    "movie_dict = movie_names.set_index('movieId')['title'].to_dict()"
   ]
  },
  {
   "cell_type": "code",
   "execution_count": 14,
   "metadata": {},
   "outputs": [
    {
     "data": {
      "text/html": [
       "<div>\n",
       "<style scoped>\n",
       "    .dataframe tbody tr th:only-of-type {\n",
       "        vertical-align: middle;\n",
       "    }\n",
       "\n",
       "    .dataframe tbody tr th {\n",
       "        vertical-align: top;\n",
       "    }\n",
       "\n",
       "    .dataframe thead th {\n",
       "        text-align: right;\n",
       "    }\n",
       "</style>\n",
       "<table border=\"1\" class=\"dataframe\">\n",
       "  <thead>\n",
       "    <tr style=\"text-align: right;\">\n",
       "      <th></th>\n",
       "      <th>movieId</th>\n",
       "      <th>title</th>\n",
       "      <th>genres</th>\n",
       "    </tr>\n",
       "  </thead>\n",
       "  <tbody>\n",
       "    <tr>\n",
       "      <th>0</th>\n",
       "      <td>1</td>\n",
       "      <td>Toy Story (1995)</td>\n",
       "      <td>Animation|Children's|Comedy</td>\n",
       "    </tr>\n",
       "    <tr>\n",
       "      <th>1</th>\n",
       "      <td>2</td>\n",
       "      <td>Jumanji (1995)</td>\n",
       "      <td>Adventure|Children's|Fantasy</td>\n",
       "    </tr>\n",
       "    <tr>\n",
       "      <th>2</th>\n",
       "      <td>3</td>\n",
       "      <td>Grumpier Old Men (1995)</td>\n",
       "      <td>Comedy|Romance</td>\n",
       "    </tr>\n",
       "    <tr>\n",
       "      <th>3</th>\n",
       "      <td>4</td>\n",
       "      <td>Waiting to Exhale (1995)</td>\n",
       "      <td>Comedy|Drama</td>\n",
       "    </tr>\n",
       "    <tr>\n",
       "      <th>4</th>\n",
       "      <td>5</td>\n",
       "      <td>Father of the Bride Part II (1995)</td>\n",
       "      <td>Comedy</td>\n",
       "    </tr>\n",
       "  </tbody>\n",
       "</table>\n",
       "</div>"
      ],
      "text/plain": [
       "   movieId                               title                        genres\n",
       "0        1                    Toy Story (1995)   Animation|Children's|Comedy\n",
       "1        2                      Jumanji (1995)  Adventure|Children's|Fantasy\n",
       "2        3             Grumpier Old Men (1995)                Comedy|Romance\n",
       "3        4            Waiting to Exhale (1995)                  Comedy|Drama\n",
       "4        5  Father of the Bride Part II (1995)                        Comedy"
      ]
     },
     "execution_count": 14,
     "metadata": {},
     "output_type": "execute_result"
    }
   ],
   "source": [
    "movie_names.head()"
   ]
  },
  {
   "cell_type": "code",
   "execution_count": 18,
   "metadata": {},
   "outputs": [
    {
     "data": {
      "text/plain": [
       "[(1, 'Toy Story (1995)'),\n",
       " (2, 'Jumanji (1995)'),\n",
       " (3, 'Grumpier Old Men (1995)'),\n",
       " (4, 'Waiting to Exhale (1995)'),\n",
       " (5, 'Father of the Bride Part II (1995)'),\n",
       " (6, 'Heat (1995)'),\n",
       " (7, 'Sabrina (1995)'),\n",
       " (8, 'Tom and Huck (1995)'),\n",
       " (9, 'Sudden Death (1995)'),\n",
       " (10, 'GoldenEye (1995)')]"
      ]
     },
     "execution_count": 18,
     "metadata": {},
     "output_type": "execute_result"
    }
   ],
   "source": [
    "[(k,movie_dict[k]) for k in list(movie_dict)][:10]"
   ]
  },
  {
   "cell_type": "code",
   "execution_count": 19,
   "metadata": {
    "hidden": true
   },
   "outputs": [],
   "source": [
    "# Get distinct Ids\n",
    "users = ratings.userId.unique()\n",
    "movies = ratings.movieId.unique()"
   ]
  },
  {
   "cell_type": "code",
   "execution_count": 20,
   "metadata": {
    "hidden": true
   },
   "outputs": [],
   "source": [
    "# Build dictionaries\n",
    "userid2idx = {o:i for i,o in enumerate(users)}\n",
    "movieid2idx = {o:i for i,o in enumerate(movies)}"
   ]
  },
  {
   "cell_type": "markdown",
   "metadata": {
    "hidden": true
   },
   "source": [
    "We update the movie and user ids so that they are contiguous integers, which we want when using embeddings."
   ]
  },
  {
   "cell_type": "code",
   "execution_count": 21,
   "metadata": {
    "hidden": true
   },
   "outputs": [],
   "source": [
    "ratings.movieId = ratings.movieId.apply(lambda x: movieid2idx[x])\n",
    "ratings.userId = ratings.userId.apply(lambda x: userid2idx[x])"
   ]
  },
  {
   "cell_type": "code",
   "execution_count": 22,
   "metadata": {
    "hidden": true
   },
   "outputs": [
    {
     "data": {
      "text/plain": [
       "(0, 6039, 0, 3705)"
      ]
     },
     "execution_count": 22,
     "metadata": {},
     "output_type": "execute_result"
    }
   ],
   "source": [
    "user_min, user_max, movie_min, movie_max = (ratings.userId.min(), \n",
    "    ratings.userId.max(), ratings.movieId.min(), ratings.movieId.max())\n",
    "user_min, user_max, movie_min, movie_max"
   ]
  },
  {
   "cell_type": "code",
   "execution_count": 26,
   "metadata": {
    "hidden": true
   },
   "outputs": [
    {
     "data": {
      "text/plain": [
       "(6040, 3706)"
      ]
     },
     "execution_count": 26,
     "metadata": {},
     "output_type": "execute_result"
    }
   ],
   "source": [
    "users_count = ratings.userId.nunique()\n",
    "movies_count = ratings.movieId.nunique()\n",
    "users_count, movies_count"
   ]
  },
  {
   "cell_type": "markdown",
   "metadata": {
    "hidden": true
   },
   "source": [
    "Let's try with 40 as the number of latent factors in each embedding."
   ]
  },
  {
   "cell_type": "code",
   "execution_count": 45,
   "metadata": {
    "hidden": true
   },
   "outputs": [],
   "source": [
    "factors_count = 40"
   ]
  },
  {
   "cell_type": "markdown",
   "metadata": {
    "hidden": true
   },
   "source": [
    "Randomly split into training and validation."
   ]
  },
  {
   "cell_type": "code",
   "execution_count": 46,
   "metadata": {
    "hidden": true
   },
   "outputs": [],
   "source": [
    "mask = np.random.rand(len(ratings)) < 0.8\n",
    "training_data = ratings[mask]\n",
    "validation_data = ratings[~mask]"
   ]
  },
  {
   "cell_type": "markdown",
   "metadata": {
    "heading_collapsed": true
   },
   "source": [
    "##  Define model based on embeddings"
   ]
  },
  {
   "cell_type": "code",
   "execution_count": 47,
   "metadata": {
    "hidden": true
   },
   "outputs": [],
   "source": [
    "def embedding_input(layer_name, input_size, output_size, reg):\n",
    "    inp = Input(shape=(1,), dtype='int64', name=layer_name)\n",
    "    return inp, Embedding(input_size, output_size, input_length=1, embeddings_regularizer=l2(reg))(inp)"
   ]
  },
  {
   "cell_type": "code",
   "execution_count": 48,
   "metadata": {
    "hidden": true
   },
   "outputs": [],
   "source": [
    "user_input, user_embedding = embedding_input('user_input', users_count, factors_count, 1e-4)\n",
    "movie_input, movie_embedding = embedding_input('movie_input', movies_count, factors_count, 1e-4)"
   ]
  },
  {
   "cell_type": "code",
   "execution_count": 59,
   "metadata": {
    "hidden": true
   },
   "outputs": [],
   "source": [
    "x = add([user_embedding, movie_embedding])\n",
    "x = Flatten()(x)\n",
    "x = Dropout(0.1)(x)\n",
    "x = Dense(100, activation='elu')(x)\n",
    "x = Dropout(0.3)(x)\n",
    "x = Dense(20, activation='elu')(x)\n",
    "x = Dense(1)(x)\n",
    "\n",
    "model = Model([user_input, movie_input], x)\n",
    "model.compile(Adam(0.005), loss='mse')"
   ]
  },
  {
   "cell_type": "code",
   "execution_count": 60,
   "metadata": {},
   "outputs": [
    {
     "name": "stdout",
     "output_type": "stream",
     "text": [
      "Train on 800419 samples, validate on 199790 samples\n",
      "Epoch 1/20\n",
      "800419/800419 [==============================] - 1s 2us/step - loss: 2.9415 - val_loss: 0.8930\n",
      "Epoch 2/20\n",
      "800419/800419 [==============================] - 1s 1us/step - loss: 0.9251 - val_loss: 0.8739\n",
      "Epoch 3/20\n",
      "800419/800419 [==============================] - 1s 1us/step - loss: 0.9037 - val_loss: 0.8675\n",
      "Epoch 4/20\n",
      "800419/800419 [==============================] - 1s 1us/step - loss: 0.8967 - val_loss: 0.8660\n",
      "Epoch 5/20\n",
      "800419/800419 [==============================] - 1s 1us/step - loss: 0.8900 - val_loss: 0.8613\n",
      "Epoch 6/20\n",
      "800419/800419 [==============================] - 1s 1us/step - loss: 0.8834 - val_loss: 0.8591\n",
      "Epoch 7/20\n",
      "800419/800419 [==============================] - 1s 1us/step - loss: 0.8798 - val_loss: 0.8549\n",
      "Epoch 8/20\n",
      "800419/800419 [==============================] - 1s 1us/step - loss: 0.8719 - val_loss: 0.8487\n",
      "Epoch 9/20\n",
      "800419/800419 [==============================] - 1s 1us/step - loss: 0.8656 - val_loss: 0.8454\n",
      "Epoch 10/20\n",
      "800419/800419 [==============================] - 1s 1us/step - loss: 0.8622 - val_loss: 0.8456\n",
      "Epoch 11/20\n",
      "800419/800419 [==============================] - 1s 1us/step - loss: 0.8596 - val_loss: 0.8446\n",
      "Epoch 12/20\n",
      "800419/800419 [==============================] - 1s 1us/step - loss: 0.8607 - val_loss: 0.8441\n",
      "Epoch 13/20\n",
      "800419/800419 [==============================] - 1s 1us/step - loss: 0.8581 - val_loss: 0.8426\n",
      "Epoch 14/20\n",
      "800419/800419 [==============================] - 1s 1us/step - loss: 0.8575 - val_loss: 0.8421\n",
      "Epoch 15/20\n",
      "800419/800419 [==============================] - 1s 1us/step - loss: 0.8559 - val_loss: 0.8427\n",
      "Epoch 16/20\n",
      "800419/800419 [==============================] - 1s 1us/step - loss: 0.8570 - val_loss: 0.8411\n",
      "Epoch 17/20\n",
      "800419/800419 [==============================] - 1s 1us/step - loss: 0.8549 - val_loss: 0.8406\n",
      "Epoch 18/20\n",
      "800419/800419 [==============================] - 1s 1us/step - loss: 0.8539 - val_loss: 0.8410\n",
      "Epoch 19/20\n",
      "800419/800419 [==============================] - 1s 1us/step - loss: 0.8531 - val_loss: 0.8402\n",
      "Epoch 20/20\n",
      "800419/800419 [==============================] - 1s 1us/step - loss: 0.8536 - val_loss: 0.8399\n"
     ]
    },
    {
     "data": {
      "text/plain": [
       "<keras.callbacks.History at 0x7f66a3692b38>"
      ]
     },
     "execution_count": 60,
     "metadata": {},
     "output_type": "execute_result"
    }
   ],
   "source": [
    "model.fit([training_data.userId, training_data.movieId], training_data.rating, batch_size=20000, epochs=20, \n",
    "          validation_data=([validation_data.userId, validation_data.movieId], validation_data.rating))"
   ]
  },
  {
   "cell_type": "code",
   "execution_count": 61,
   "metadata": {},
   "outputs": [],
   "source": [
    "# fine tune with a smaller learning rate\n",
    "model.compile(Adam(0.001), loss='mse') "
   ]
  },
  {
   "cell_type": "code",
   "execution_count": 62,
   "metadata": {},
   "outputs": [
    {
     "name": "stdout",
     "output_type": "stream",
     "text": [
      "Train on 800419 samples, validate on 199790 samples\n",
      "Epoch 1/100\n",
      "800419/800419 [==============================] - 1s 2us/step - loss: 0.8277 - val_loss: 0.8239\n",
      "Epoch 2/100\n",
      "800419/800419 [==============================] - 1s 1us/step - loss: 0.8162 - val_loss: 0.8177\n",
      "Epoch 3/100\n",
      "800419/800419 [==============================] - 1s 1us/step - loss: 0.8112 - val_loss: 0.8146\n",
      "Epoch 4/100\n",
      "800419/800419 [==============================] - 1s 1us/step - loss: 0.8079 - val_loss: 0.8120\n",
      "Epoch 5/100\n",
      "800419/800419 [==============================] - 1s 1us/step - loss: 0.8054 - val_loss: 0.8092\n",
      "Epoch 6/100\n",
      "800419/800419 [==============================] - 1s 1us/step - loss: 0.8027 - val_loss: 0.8074\n",
      "Epoch 7/100\n",
      "800419/800419 [==============================] - 1s 1us/step - loss: 0.8001 - val_loss: 0.8054\n",
      "Epoch 8/100\n",
      "800419/800419 [==============================] - 1s 1us/step - loss: 0.7976 - val_loss: 0.8033\n",
      "Epoch 9/100\n",
      "800419/800419 [==============================] - 1s 1us/step - loss: 0.7937 - val_loss: 0.7998\n",
      "Epoch 10/100\n",
      "800419/800419 [==============================] - 1s 1us/step - loss: 0.7901 - val_loss: 0.7985\n",
      "Epoch 11/100\n",
      "800419/800419 [==============================] - 1s 1us/step - loss: 0.7871 - val_loss: 0.7964\n",
      "Epoch 12/100\n",
      "800419/800419 [==============================] - 1s 1us/step - loss: 0.7840 - val_loss: 0.7949\n",
      "Epoch 13/100\n",
      "800419/800419 [==============================] - 1s 1us/step - loss: 0.7827 - val_loss: 0.7930\n",
      "Epoch 14/100\n",
      "800419/800419 [==============================] - 1s 1us/step - loss: 0.7806 - val_loss: 0.7927\n",
      "Epoch 15/100\n",
      "800419/800419 [==============================] - 1s 1us/step - loss: 0.7795 - val_loss: 0.7932\n",
      "Epoch 16/100\n",
      "800419/800419 [==============================] - 1s 1us/step - loss: 0.7783 - val_loss: 0.7916\n",
      "Epoch 17/100\n",
      "800419/800419 [==============================] - 1s 1us/step - loss: 0.7773 - val_loss: 0.7916\n",
      "Epoch 18/100\n",
      "800419/800419 [==============================] - 1s 1us/step - loss: 0.7762 - val_loss: 0.7899\n",
      "Epoch 19/100\n",
      "800419/800419 [==============================] - 1s 1us/step - loss: 0.7750 - val_loss: 0.7895\n",
      "Epoch 20/100\n",
      "800419/800419 [==============================] - 1s 1us/step - loss: 0.7736 - val_loss: 0.7901\n",
      "Epoch 21/100\n",
      "800419/800419 [==============================] - 1s 1us/step - loss: 0.7726 - val_loss: 0.7882\n",
      "Epoch 22/100\n",
      "800419/800419 [==============================] - 1s 1us/step - loss: 0.7714 - val_loss: 0.7876\n",
      "Epoch 23/100\n",
      "800419/800419 [==============================] - 1s 1us/step - loss: 0.7703 - val_loss: 0.7884\n",
      "Epoch 24/100\n",
      "800419/800419 [==============================] - 1s 1us/step - loss: 0.7697 - val_loss: 0.7875\n",
      "Epoch 25/100\n",
      "800419/800419 [==============================] - 1s 1us/step - loss: 0.7677 - val_loss: 0.7881\n",
      "Epoch 26/100\n",
      "800419/800419 [==============================] - 1s 1us/step - loss: 0.7676 - val_loss: 0.7869\n",
      "Epoch 27/100\n",
      "800419/800419 [==============================] - 1s 1us/step - loss: 0.7670 - val_loss: 0.7873\n",
      "Epoch 28/100\n",
      "800419/800419 [==============================] - 1s 1us/step - loss: 0.7650 - val_loss: 0.7866\n",
      "Epoch 29/100\n",
      "800419/800419 [==============================] - 1s 1us/step - loss: 0.7646 - val_loss: 0.7858\n",
      "Epoch 30/100\n",
      "800419/800419 [==============================] - 1s 1us/step - loss: 0.7632 - val_loss: 0.7868\n",
      "Epoch 31/100\n",
      "800419/800419 [==============================] - 1s 1us/step - loss: 0.7617 - val_loss: 0.7839\n",
      "Epoch 32/100\n",
      "800419/800419 [==============================] - 1s 1us/step - loss: 0.7608 - val_loss: 0.7836\n",
      "Epoch 33/100\n",
      "800419/800419 [==============================] - 1s 1us/step - loss: 0.7592 - val_loss: 0.7821\n",
      "Epoch 34/100\n",
      "800419/800419 [==============================] - 1s 1us/step - loss: 0.7585 - val_loss: 0.7820\n",
      "Epoch 35/100\n",
      "800419/800419 [==============================] - 1s 1us/step - loss: 0.7568 - val_loss: 0.7801\n",
      "Epoch 36/100\n",
      "800419/800419 [==============================] - 1s 1us/step - loss: 0.7562 - val_loss: 0.7799\n",
      "Epoch 37/100\n",
      "800419/800419 [==============================] - 1s 1us/step - loss: 0.7546 - val_loss: 0.7792\n",
      "Epoch 38/100\n",
      "800419/800419 [==============================] - 1s 1us/step - loss: 0.7543 - val_loss: 0.7785\n",
      "Epoch 39/100\n",
      "800419/800419 [==============================] - 1s 1us/step - loss: 0.7533 - val_loss: 0.7784\n",
      "Epoch 40/100\n",
      "800419/800419 [==============================] - 1s 1us/step - loss: 0.7517 - val_loss: 0.7765\n",
      "Epoch 41/100\n",
      "800419/800419 [==============================] - 1s 1us/step - loss: 0.7512 - val_loss: 0.7770\n",
      "Epoch 42/100\n",
      "800419/800419 [==============================] - 1s 1us/step - loss: 0.7503 - val_loss: 0.7759\n",
      "Epoch 43/100\n",
      "800419/800419 [==============================] - 1s 1us/step - loss: 0.7494 - val_loss: 0.7770\n",
      "Epoch 44/100\n",
      "800419/800419 [==============================] - 1s 1us/step - loss: 0.7488 - val_loss: 0.7760\n",
      "Epoch 45/100\n",
      "800419/800419 [==============================] - 1s 1us/step - loss: 0.7490 - val_loss: 0.7756\n",
      "Epoch 46/100\n",
      "800419/800419 [==============================] - 1s 1us/step - loss: 0.7479 - val_loss: 0.7759\n",
      "Epoch 47/100\n",
      "800419/800419 [==============================] - 1s 1us/step - loss: 0.7460 - val_loss: 0.7753\n",
      "Epoch 48/100\n",
      "800419/800419 [==============================] - 1s 1us/step - loss: 0.7466 - val_loss: 0.7755\n",
      "Epoch 49/100\n",
      "800419/800419 [==============================] - 1s 1us/step - loss: 0.7456 - val_loss: 0.7749\n",
      "Epoch 50/100\n",
      "800419/800419 [==============================] - 1s 1us/step - loss: 0.7452 - val_loss: 0.7754\n",
      "Epoch 51/100\n",
      "800419/800419 [==============================] - 1s 1us/step - loss: 0.7448 - val_loss: 0.7753\n",
      "Epoch 52/100\n",
      "800419/800419 [==============================] - 1s 1us/step - loss: 0.7435 - val_loss: 0.7748\n",
      "Epoch 53/100\n",
      "800419/800419 [==============================] - 1s 1us/step - loss: 0.7429 - val_loss: 0.7750\n",
      "Epoch 54/100\n",
      "800419/800419 [==============================] - 1s 1us/step - loss: 0.7420 - val_loss: 0.7758\n",
      "Epoch 55/100\n",
      "800419/800419 [==============================] - 1s 1us/step - loss: 0.7421 - val_loss: 0.7757\n",
      "Epoch 56/100\n",
      "800419/800419 [==============================] - 1s 1us/step - loss: 0.7406 - val_loss: 0.7794\n",
      "Epoch 57/100\n",
      "800419/800419 [==============================] - 1s 1us/step - loss: 0.7414 - val_loss: 0.7796\n",
      "Epoch 58/100\n",
      "800419/800419 [==============================] - 1s 1us/step - loss: 0.7408 - val_loss: 0.7736\n",
      "Epoch 59/100\n",
      "800419/800419 [==============================] - 1s 1us/step - loss: 0.7393 - val_loss: 0.7733\n",
      "Epoch 60/100\n",
      "800419/800419 [==============================] - 1s 1us/step - loss: 0.7388 - val_loss: 0.7736\n",
      "Epoch 61/100\n",
      "800419/800419 [==============================] - 1s 1us/step - loss: 0.7373 - val_loss: 0.7749\n",
      "Epoch 62/100\n",
      "800419/800419 [==============================] - 1s 1us/step - loss: 0.7375 - val_loss: 0.7744\n",
      "Epoch 63/100\n",
      "800419/800419 [==============================] - 1s 1us/step - loss: 0.7362 - val_loss: 0.7722\n",
      "Epoch 64/100\n",
      "800419/800419 [==============================] - 1s 1us/step - loss: 0.7364 - val_loss: 0.7743\n",
      "Epoch 65/100\n",
      "800419/800419 [==============================] - 1s 1us/step - loss: 0.7358 - val_loss: 0.7727\n",
      "Epoch 66/100\n",
      "800419/800419 [==============================] - 1s 1us/step - loss: 0.7360 - val_loss: 0.7722\n",
      "Epoch 67/100\n",
      "800419/800419 [==============================] - 1s 1us/step - loss: 0.7361 - val_loss: 0.7725\n",
      "Epoch 68/100\n",
      "800419/800419 [==============================] - 1s 1us/step - loss: 0.7347 - val_loss: 0.7739\n",
      "Epoch 69/100\n",
      "800419/800419 [==============================] - 1s 1us/step - loss: 0.7331 - val_loss: 0.7713\n",
      "Epoch 70/100\n",
      "800419/800419 [==============================] - 1s 1us/step - loss: 0.7330 - val_loss: 0.7720\n",
      "Epoch 71/100\n",
      "800419/800419 [==============================] - 1s 1us/step - loss: 0.7315 - val_loss: 0.7716\n",
      "Epoch 72/100\n",
      "800419/800419 [==============================] - 1s 1us/step - loss: 0.7319 - val_loss: 0.7713\n",
      "Epoch 73/100\n",
      "800419/800419 [==============================] - 1s 1us/step - loss: 0.7307 - val_loss: 0.7709\n",
      "Epoch 74/100\n",
      "800419/800419 [==============================] - 1s 1us/step - loss: 0.7304 - val_loss: 0.7723\n",
      "Epoch 75/100\n",
      "800419/800419 [==============================] - 1s 1us/step - loss: 0.7301 - val_loss: 0.7722\n",
      "Epoch 76/100\n"
     ]
    },
    {
     "name": "stdout",
     "output_type": "stream",
     "text": [
      "800419/800419 [==============================] - 1s 1us/step - loss: 0.7295 - val_loss: 0.7721\n",
      "Epoch 77/100\n",
      "800419/800419 [==============================] - 1s 1us/step - loss: 0.7283 - val_loss: 0.7710\n",
      "Epoch 78/100\n",
      "800419/800419 [==============================] - 1s 1us/step - loss: 0.7277 - val_loss: 0.7717\n",
      "Epoch 79/100\n",
      "800419/800419 [==============================] - 1s 1us/step - loss: 0.7272 - val_loss: 0.7722\n",
      "Epoch 80/100\n",
      "800419/800419 [==============================] - 1s 1us/step - loss: 0.7275 - val_loss: 0.7706\n",
      "Epoch 81/100\n",
      "800419/800419 [==============================] - 1s 1us/step - loss: 0.7264 - val_loss: 0.7712\n",
      "Epoch 82/100\n",
      "800419/800419 [==============================] - 1s 1us/step - loss: 0.7263 - val_loss: 0.7700\n",
      "Epoch 83/100\n",
      "800419/800419 [==============================] - 1s 1us/step - loss: 0.7247 - val_loss: 0.7718\n",
      "Epoch 84/100\n",
      "800419/800419 [==============================] - 1s 1us/step - loss: 0.7240 - val_loss: 0.7695\n",
      "Epoch 85/100\n",
      "800419/800419 [==============================] - 1s 1us/step - loss: 0.7236 - val_loss: 0.7711\n",
      "Epoch 86/100\n",
      "800419/800419 [==============================] - 1s 1us/step - loss: 0.7226 - val_loss: 0.7697\n",
      "Epoch 87/100\n",
      "800419/800419 [==============================] - 1s 1us/step - loss: 0.7236 - val_loss: 0.7726\n",
      "Epoch 88/100\n",
      "800419/800419 [==============================] - 1s 1us/step - loss: 0.7223 - val_loss: 0.7694\n",
      "Epoch 89/100\n",
      "800419/800419 [==============================] - 1s 1us/step - loss: 0.7228 - val_loss: 0.7722\n",
      "Epoch 90/100\n",
      "800419/800419 [==============================] - 1s 1us/step - loss: 0.7219 - val_loss: 0.7699\n",
      "Epoch 91/100\n",
      "800419/800419 [==============================] - 1s 1us/step - loss: 0.7206 - val_loss: 0.7697\n",
      "Epoch 92/100\n",
      "800419/800419 [==============================] - 1s 1us/step - loss: 0.7202 - val_loss: 0.7699\n",
      "Epoch 93/100\n",
      "800419/800419 [==============================] - 1s 1us/step - loss: 0.7200 - val_loss: 0.7712\n",
      "Epoch 94/100\n",
      "800419/800419 [==============================] - 1s 1us/step - loss: 0.7196 - val_loss: 0.7695\n",
      "Epoch 95/100\n",
      "800419/800419 [==============================] - 1s 1us/step - loss: 0.7189 - val_loss: 0.7709\n",
      "Epoch 96/100\n",
      "800419/800419 [==============================] - 1s 1us/step - loss: 0.7192 - val_loss: 0.7679\n",
      "Epoch 97/100\n",
      "800419/800419 [==============================] - 1s 1us/step - loss: 0.7187 - val_loss: 0.7705\n",
      "Epoch 98/100\n",
      "800419/800419 [==============================] - 1s 1us/step - loss: 0.7183 - val_loss: 0.7679\n",
      "Epoch 99/100\n",
      "800419/800419 [==============================] - 1s 1us/step - loss: 0.7175 - val_loss: 0.7696\n",
      "Epoch 100/100\n",
      "800419/800419 [==============================] - 1s 1us/step - loss: 0.7162 - val_loss: 0.7707\n"
     ]
    },
    {
     "data": {
      "text/plain": [
       "<keras.callbacks.History at 0x7f66a305e6d8>"
      ]
     },
     "execution_count": 62,
     "metadata": {},
     "output_type": "execute_result"
    }
   ],
   "source": [
    "model.fit([training_data.userId, training_data.movieId], training_data.rating, batch_size=20000, epochs=100, \n",
    "          validation_data=([validation_data.userId, validation_data.movieId], validation_data.rating))"
   ]
  },
  {
   "cell_type": "code",
   "execution_count": 63,
   "metadata": {
    "hidden": true
   },
   "outputs": [],
   "source": [
    "model.save('Sample6.h5')"
   ]
  },
  {
   "cell_type": "markdown",
   "metadata": {
    "hidden": true
   },
   "source": [
    "We can use the model to generate predictions by passing a pair of ints - a user id and a movie id. For instance, this predicts that user #3 would really enjoy movie #6."
   ]
  },
  {
   "cell_type": "code",
   "execution_count": 54,
   "metadata": {
    "hidden": true
   },
   "outputs": [
    {
     "data": {
      "text/plain": [
       "array([[4.2533917]], dtype=float32)"
      ]
     },
     "execution_count": 54,
     "metadata": {},
     "output_type": "execute_result"
    }
   ],
   "source": [
    "model.predict([np.array([3]), np.array([6])])"
   ]
  },
  {
   "cell_type": "markdown",
   "metadata": {},
   "source": [
    "Let's export the user and movie dictionaries we have as we will need them in the prediction .NET sample"
   ]
  },
  {
   "cell_type": "code",
   "execution_count": 55,
   "metadata": {},
   "outputs": [],
   "source": [
    "import csv\n",
    "def saveDictionary(dict, fileName) :\n",
    "    f = open(fileName, \"w\", newline='')\n",
    "    w = csv.writer(f)\n",
    "    for key, val in dict.items():\n",
    "        w.writerow([key, val])\n",
    "    f.close()"
   ]
  },
  {
   "cell_type": "code",
   "execution_count": 64,
   "metadata": {},
   "outputs": [],
   "source": [
    "saveDictionary(movie_dict, \"movies.csv\")\n",
    "saveDictionary(userid2idx, \"userid2index.csv\")\n",
    "saveDictionary(movieid2idx, \"movieid2index.csv\")"
   ]
  },
  {
   "cell_type": "code",
   "execution_count": null,
   "metadata": {},
   "outputs": [],
   "source": []
  }
 ],
 "metadata": {
  "kernelspec": {
   "display_name": "Python 3",
   "language": "python",
   "name": "python3"
  },
  "language_info": {
   "codemirror_mode": {
    "name": "ipython",
    "version": 3
   },
   "file_extension": ".py",
   "mimetype": "text/x-python",
   "name": "python",
   "nbconvert_exporter": "python",
   "pygments_lexer": "ipython3",
   "version": "3.5.4"
  }
 },
 "nbformat": 4,
 "nbformat_minor": 2
}
